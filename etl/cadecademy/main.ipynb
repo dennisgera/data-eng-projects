{
 "cells": [
  {
   "cell_type": "code",
   "execution_count": 7,
   "metadata": {},
   "outputs": [],
   "source": [
    "import sqlite3\n",
    "import pandas as pd"
   ]
  },
  {
   "cell_type": "code",
   "execution_count": 8,
   "metadata": {},
   "outputs": [],
   "source": [
    "con = sqlite3.connect(\"cademycode_updated.db\")\n",
    "cur = con.cursor()"
   ]
  },
  {
   "cell_type": "code",
   "execution_count": 6,
   "metadata": {},
   "outputs": [
    {
     "data": {
      "text/plain": [
       "[('cademycode_students',),\n",
       " ('cademycode_courses',),\n",
       " ('cademycode_student_jobs',)]"
      ]
     },
     "execution_count": 6,
     "metadata": {},
     "output_type": "execute_result"
    }
   ],
   "source": [
    "res = cur.execute(\"select name from sqlite_master\")\n",
    "res.fetchall()"
   ]
  },
  {
   "cell_type": "markdown",
   "metadata": {},
   "source": [
    "### Table names\n",
    "- cademycode_students\n",
    "- cademycode_courses\n",
    "- cademycode_student_jobs"
   ]
  },
  {
   "cell_type": "code",
   "execution_count": 20,
   "metadata": {},
   "outputs": [],
   "source": [
    "df_students = pd.read_sql_query(\"select * from cademycode_students\", con)\n",
    "df_courses = pd.read_sql_query(\"select * from cademycode_courses\", con)\n",
    "df_student_jobs = pd.read_sql_query(\"select * from cademycode_student_jobs\", con)"
   ]
  },
  {
   "cell_type": "code",
   "execution_count": 26,
   "metadata": {},
   "outputs": [
    {
     "data": {
      "text/html": [
       "<div>\n",
       "<style scoped>\n",
       "    .dataframe tbody tr th:only-of-type {\n",
       "        vertical-align: middle;\n",
       "    }\n",
       "\n",
       "    .dataframe tbody tr th {\n",
       "        vertical-align: top;\n",
       "    }\n",
       "\n",
       "    .dataframe thead th {\n",
       "        text-align: right;\n",
       "    }\n",
       "</style>\n",
       "<table border=\"1\" class=\"dataframe\">\n",
       "  <thead>\n",
       "    <tr style=\"text-align: right;\">\n",
       "      <th></th>\n",
       "      <th>career_path_id</th>\n",
       "      <th>career_path_name</th>\n",
       "      <th>hours_to_complete</th>\n",
       "    </tr>\n",
       "  </thead>\n",
       "  <tbody>\n",
       "    <tr>\n",
       "      <th>0</th>\n",
       "      <td>1</td>\n",
       "      <td>data scientist</td>\n",
       "      <td>20</td>\n",
       "    </tr>\n",
       "    <tr>\n",
       "      <th>1</th>\n",
       "      <td>2</td>\n",
       "      <td>data engineer</td>\n",
       "      <td>20</td>\n",
       "    </tr>\n",
       "    <tr>\n",
       "      <th>2</th>\n",
       "      <td>3</td>\n",
       "      <td>data analyst</td>\n",
       "      <td>12</td>\n",
       "    </tr>\n",
       "    <tr>\n",
       "      <th>3</th>\n",
       "      <td>4</td>\n",
       "      <td>software engineering</td>\n",
       "      <td>25</td>\n",
       "    </tr>\n",
       "    <tr>\n",
       "      <th>4</th>\n",
       "      <td>5</td>\n",
       "      <td>backend engineer</td>\n",
       "      <td>18</td>\n",
       "    </tr>\n",
       "  </tbody>\n",
       "</table>\n",
       "</div>"
      ],
      "text/plain": [
       "   career_path_id      career_path_name  hours_to_complete\n",
       "0               1        data scientist                 20\n",
       "1               2         data engineer                 20\n",
       "2               3          data analyst                 12\n",
       "3               4  software engineering                 25\n",
       "4               5      backend engineer                 18"
      ]
     },
     "execution_count": 26,
     "metadata": {},
     "output_type": "execute_result"
    }
   ],
   "source": [
    "df_students.head()\n",
    "df_courses.head()\n",
    "df_student_jobs.head()"
   ]
  },
  {
   "cell_type": "code",
   "execution_count": 22,
   "metadata": {},
   "outputs": [
    {
     "name": "stdout",
     "output_type": "stream",
     "text": [
      "(6000, 9)\n",
      "(10, 3)\n",
      "(13, 3)\n"
     ]
    }
   ],
   "source": [
    "print(df_students.shape)\n",
    "print(df_courses.shape)\n",
    "print(df_student_jobs.shape)"
   ]
  },
  {
   "cell_type": "code",
   "execution_count": 23,
   "metadata": {},
   "outputs": [],
   "source": [
    "df_students.drop_duplicates(inplace=True)\n",
    "df_courses.drop_duplicates(inplace=True)\n",
    "df_student_jobs.drop_duplicates(inplace=True)"
   ]
  },
  {
   "cell_type": "code",
   "execution_count": 24,
   "metadata": {},
   "outputs": [
    {
     "name": "stdout",
     "output_type": "stream",
     "text": [
      "(6000, 9)\n",
      "(10, 3)\n",
      "(10, 3)\n"
     ]
    }
   ],
   "source": [
    "print(df_students.shape)\n",
    "print(df_courses.shape)\n",
    "print(df_student_jobs.shape)"
   ]
  },
  {
   "cell_type": "code",
   "execution_count": 31,
   "metadata": {},
   "outputs": [
    {
     "name": "stdout",
     "output_type": "stream",
     "text": [
      "uuid                       int64\n",
      "name                      object\n",
      "dob                       object\n",
      "sex                       object\n",
      "contact_info              object\n",
      "job_id                    object\n",
      "num_course_taken          object\n",
      "current_career_path_id    object\n",
      "time_spent_hrs            object\n",
      "dtype: object\n",
      "------------------\n",
      "career_path_id        int64\n",
      "career_path_name     object\n",
      "hours_to_complete     int64\n",
      "dtype: object\n",
      "------------------\n",
      "job_id           int64\n",
      "job_category    object\n",
      "avg_salary       int64\n",
      "dtype: object\n"
     ]
    }
   ],
   "source": [
    "print(df_students.dtypes)\n",
    "print('------------------')\n",
    "print(df_courses.dtypes)\n",
    "print('------------------')\n",
    "print(df_student_jobs.dtypes)"
   ]
  },
  {
   "cell_type": "code",
   "execution_count": 32,
   "metadata": {},
   "outputs": [
    {
     "name": "stdout",
     "output_type": "stream",
     "text": [
      "uuid                      6000\n",
      "name                      5998\n",
      "dob                       5277\n",
      "sex                          3\n",
      "contact_info              6000\n",
      "job_id                      10\n",
      "num_course_taken            16\n",
      "current_career_path_id      10\n",
      "time_spent_hrs            2448\n",
      "dtype: int64\n",
      "------------------\n",
      "career_path_id       10\n",
      "career_path_name     10\n",
      "hours_to_complete     7\n",
      "dtype: int64\n",
      "------------------\n",
      "job_id          10\n",
      "job_category    10\n",
      "avg_salary       9\n",
      "dtype: int64\n"
     ]
    }
   ],
   "source": [
    "print(df_students.nunique())\n",
    "print('------------------')\n",
    "print(df_courses.nunique())\n",
    "print('------------------')\n",
    "print(df_student_jobs.nunique())"
   ]
  },
  {
   "cell_type": "code",
   "execution_count": 33,
   "metadata": {},
   "outputs": [
    {
     "name": "stdout",
     "output_type": "stream",
     "text": [
      "uuid                        0\n",
      "name                        0\n",
      "dob                         0\n",
      "sex                         0\n",
      "contact_info                0\n",
      "job_id                     14\n",
      "num_course_taken          267\n",
      "current_career_path_id    487\n",
      "time_spent_hrs            487\n",
      "dtype: int64\n",
      "------------------\n",
      "career_path_id       0\n",
      "career_path_name     0\n",
      "hours_to_complete    0\n",
      "dtype: int64\n",
      "------------------\n",
      "job_id          0\n",
      "job_category    0\n",
      "avg_salary      0\n",
      "dtype: int64\n"
     ]
    }
   ],
   "source": [
    "print(df_students.isna().sum())\n",
    "print('------------------')\n",
    "print(df_courses.isna().sum())\n",
    "print('------------------')\n",
    "print(df_student_jobs.isna().sum())"
   ]
  }
 ],
 "metadata": {
  "kernelspec": {
   "display_name": "data-eng-projects-venv",
   "language": "python",
   "name": "python3"
  },
  "language_info": {
   "codemirror_mode": {
    "name": "ipython",
    "version": 3
   },
   "file_extension": ".py",
   "mimetype": "text/x-python",
   "name": "python",
   "nbconvert_exporter": "python",
   "pygments_lexer": "ipython3",
   "version": "3.11.4"
  }
 },
 "nbformat": 4,
 "nbformat_minor": 2
}
